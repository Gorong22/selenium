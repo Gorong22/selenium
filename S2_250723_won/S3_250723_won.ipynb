{
 "cells": [
  {
   "cell_type": "code",
   "execution_count": 4,
   "id": "25a23c9f-c0cd-489e-a481-2bee8436b9a2",
   "metadata": {},
   "outputs": [
    {
     "name": "stdout",
     "output_type": "stream",
     "text": [
      "Teddy의 선물 블로그\n"
     ]
    }
   ],
   "source": [
    "from selenium import webdriver\n",
    "from selenium.webdriver.chrome.service import Service\n",
    "from selenium.webdriver.common.by import By\n",
    "from selenium.webdriver.chrome.options import Options\n",
    "from webdriver_manager.chrome import ChromeDriverManager\n",
    "from selenium.webdriver.common.keys import Keys\n",
    "import time\n",
    "\n",
    "\n",
    "service = Service(\"C:\\\\Users\\\\B4-23\\\\Downloads\\\\chromedriver\\\\chromedriver.exe\")\n",
    "options = Options()\n",
    "options.add_argument(\"--start-maximized\")\n",
    "options.add_argument(\"--disable-gpu\")\n",
    "options.add_argument(\"headless\")\n",
    "options.add_argument(\"window-size=1920x1080\")\n",
    "options.add_argument(\"user-agent=Mozilla/5.0 (Windows NT 10.0; Win64; x64) AppleWebKit/537.36 (KHTML, like Gecko) Chrome/138.0.0.0 Safari/537.36\")\n",
    "options.add_argument(\"lang=ko_KR\")\n",
    "\n",
    "\n",
    "driver = webdriver.Chrome(service = service, options = options)\n",
    "\n",
    "driver.get(\"https://davelee-fun.github.io/\")\n",
    "\n",
    "element = driver.find_element(By.TAG_NAME, \"h1\")\n",
    "print(element.text)\n",
    "\n",
    "time.sleep(3)\n",
    "driver.quit()"
   ]
  },
  {
   "cell_type": "code",
   "execution_count": 19,
   "id": "57eaaf9a-f741-4d65-be15-1562123450b8",
   "metadata": {},
   "outputs": [
    {
     "name": "stdout",
     "output_type": "stream",
     "text": [
      "(초급) - 데이터를 엑셀 파일로 만들기 [9]\n",
      "(초급) -     엑셀 파일 이쁘게! 이쁘게! [8]\n",
      "(초급) -     나대신 주기적으로 파이썬 프로그램 실행하기 [7]\n",
      "(초급) - 파이썬으로 슬랙(slack) 메신저에 글쓰기 [40]\n",
      "(초급) - 웹사이트 변경사항 주기적으로 체크해서, 메신저로 알람주기 [12]\n",
      "(초급) - 네이버 API 사용해서, 블로그에 글쓰기 [42]\n",
      "(중급) - 자동으로 쿠팡파트너스 API 로 가져온 상품 정보, 네이버 블로그/트위터에 홍보하기 [412]\n"
     ]
    }
   ],
   "source": [
    "from selenium import webdriver\n",
    "from selenium.webdriver.chrome.service import Service\n",
    "from selenium.webdriver.common.by import By\n",
    "import time\n",
    "import re\n",
    "\n",
    "driver = webdriver.Chrome(service=service)\n",
    "url = \"https://crawlingtest.netlify.app/\"\n",
    "time.sleep(1)\n",
    "driver.get(url)\n",
    "\n",
    "cos = driver.find_elements(By.ID, \"dev_course_list\")\n",
    "for cos2 in cos :\n",
    "    title = cos2.find_elements(By.CSS_SELECTOR, \".course:not(.maintitle)\")\n",
    "    for title2 in title :\n",
    "        print(title2.text)"
   ]
  },
  {
   "cell_type": "code",
   "execution_count": 20,
   "id": "5bf2dc8b-6a52-4f29-a613-3bfbd76c4a9f",
   "metadata": {},
   "outputs": [
    {
     "name": "stdout",
     "output_type": "stream",
     "text": [
      "(초급) - 강사가 실제 사용하는 자동 프로그램 소개 [2]\n",
      "(초급) - 필요한 프로그램 설치 시연 [5]\n",
      "(초급) - 데이터를 엑셀 파일로 만들기 [9]\n",
      "(초급) -     엑셀 파일 이쁘게! 이쁘게! [8]\n",
      "(초급) -     나대신 주기적으로 파이썬 프로그램 실행하기 [7]\n",
      "(초급) - 파이썬으로 슬랙(slack) 메신저에 글쓰기 [40]\n",
      "(초급) - 웹사이트 변경사항 주기적으로 체크해서, 메신저로 알람주기 [12]\n",
      "(초급) - 네이버 API 사용해서, 블로그에 글쓰기 [42]\n",
      "(중급) - 자동으로 쿠팡파트너스 API 로 가져온 상품 정보, 네이버 블로그/트위터에 홍보하기 [412]\n"
     ]
    }
   ],
   "source": [
    "from selenium import webdriver\n",
    "from selenium.webdriver.chrome.service import Service\n",
    "from selenium.webdriver.common.by import By\n",
    "import time\n",
    "import re\n",
    "\n",
    "driver = webdriver.Chrome(service=service)\n",
    "url = \"https://crawlingtest.netlify.app/\"\n",
    "time.sleep(1)\n",
    "driver.get(url)\n",
    "\n",
    "cos = driver.find_elements(By.CSS_SELECTOR, \"ul#dev_course_list > li.course\")\n",
    "for cos2 in cos :\n",
    "    print(cos2.text)"
   ]
  },
  {
   "cell_type": "code",
   "execution_count": 23,
   "id": "f2e93b0d-d038-40dc-921f-0401aef9e3e7",
   "metadata": {},
   "outputs": [
    {
     "name": "stdout",
     "output_type": "stream",
     "text": [
      "일정 커리큘럼 타이틀 난이도\n",
      "5.1 ~ 6.15 나만의 엣지있는 블로그 사이트 만들기 (취미로 익히는 IT) 초급\n",
      "6.16 ~ 7.31 파이썬과 데이터과학 첫걸음 (IT 기본기 익히기) 중급\n"
     ]
    }
   ],
   "source": [
    "from selenium import webdriver\n",
    "from selenium.webdriver.chrome.service import Service\n",
    "from selenium.webdriver.common.by import By\n",
    "import time\n",
    "import re\n",
    "\n",
    "driver2 = webdriver.Chrome(service=service)\n",
    "url = \"https://crawlingtest.netlify.app/\"\n",
    "time.sleep(1)\n",
    "driver2.get(url)\n",
    "\n",
    "\n",
    "cur = driver2.find_elements(By.CSS_SELECTOR, \"tbody\")\n",
    "for cur2 in cur :\n",
    "    \n",
    "    print(cur2.text)"
   ]
  },
  {
   "cell_type": "code",
   "execution_count": 24,
   "id": "9aa1f0dc-6d10-43a3-9542-2aef2f32e94a",
   "metadata": {},
   "outputs": [
    {
     "name": "stdout",
     "output_type": "stream",
     "text": [
      "5.1 ~ 6.15 나만의 엣지있는 블로그 사이트 만들기 (취미로 익히는 IT) 초급\n",
      "6.16 ~ 7.31 파이썬과 데이터과학 첫걸음 (IT 기본기 익히기) 중급\n"
     ]
    }
   ],
   "source": [
    "from selenium import webdriver\n",
    "from selenium.webdriver.chrome.service import Service\n",
    "from selenium.webdriver.common.by import By\n",
    "import time\n",
    "import re\n",
    "\n",
    "driver2 = webdriver.Chrome(service=service)\n",
    "url = \"https://crawlingtest.netlify.app/\"\n",
    "time.sleep(1)\n",
    "driver2.get(url)\n",
    "\n",
    "\n",
    "cur = driver2.find_elements(By.CSS_SELECTOR, \"tbody tr\")\n",
    "for cur2 in cur[1:] :\n",
    "    \n",
    "    print(cur2.text)"
   ]
  },
  {
   "cell_type": "code",
   "execution_count": 26,
   "id": "d1bbb1c4-ceb7-4c08-9935-c8627f21e4f2",
   "metadata": {},
   "outputs": [
    {
     "name": "stdout",
     "output_type": "stream",
     "text": [
      "일정\n",
      "커리큘럼 타이틀\n",
      "난이도\n",
      "5.1 ~ 6.15\n",
      "나만의 엣지있는 블로그 사이트 만들기 (취미로 익히는 IT)\n",
      "초급\n",
      "6.16 ~ 7.31\n",
      "파이썬과 데이터과학 첫걸음 (IT 기본기 익히기)\n",
      "중급\n"
     ]
    }
   ],
   "source": [
    "from selenium import webdriver\n",
    "from selenium.webdriver.chrome.service import Service\n",
    "from selenium.webdriver.common.by import By\n",
    "import time\n",
    "import re\n",
    "\n",
    "driver2 = webdriver.Chrome(service=service)\n",
    "url = \"https://crawlingtest.netlify.app/\"\n",
    "time.sleep(1)\n",
    "driver2.get(url)\n",
    "\n",
    "\n",
    "cur = driver2.find_elements(By.TAG_NAME, \"td\")\n",
    "cur = driver2.find_elements(By.CSS_SELECTOR, \"table tr td\")\n",
    "for cur2 in cur :\n",
    "    \n",
    "    print(cur2.text)\n"
   ]
  },
  {
   "cell_type": "code",
   "execution_count": 36,
   "id": "aabc4ee4-fc6d-4569-99d1-03beca219a7d",
   "metadata": {},
   "outputs": [
    {
     "name": "stdout",
     "output_type": "stream",
     "text": [
      "(중급) - 자동으로 쿠팡파트너스 API 로 가져온 상품 정보, 네이버 블로그/트위터에 홍보하기 [412]\n"
     ]
    }
   ],
   "source": [
    "from selenium import webdriver\n",
    "from selenium.webdriver.chrome.service import Service\n",
    "from selenium.webdriver.common.by import By\n",
    "import time\n",
    "import re\n",
    "\n",
    "driver2 = webdriver.Chrome(service=service)\n",
    "url = \"https://crawlingtest.netlify.app/\"\n",
    "time.sleep(1)\n",
    "driver2.get(url)\n",
    "\n",
    "\n",
    "cur = driver2.find_elements(By.ID, \"dev_course_list\")\n",
    "for cur2 in cur :\n",
    "    title = cur2.find_elements(By.TAG_NAME, \"a\")\n",
    "    for title2 in title :\n",
    "        if \"중급\" in title2.text :\n",
    "            print(title2.text)"
   ]
  },
  {
   "cell_type": "code",
   "execution_count": 38,
   "id": "03690033-cf4c-4bf5-a531-f1099004118b",
   "metadata": {},
   "outputs": [
    {
     "name": "stdout",
     "output_type": "stream",
     "text": [
      "(중급) - 자동으로 쿠팡파트너스 API 로 가져온 상품 정보, 네이버 블로그/트위터에 홍보하기 [412]\n"
     ]
    }
   ],
   "source": [
    "from selenium import webdriver\n",
    "from selenium.webdriver.chrome.service import Service\n",
    "from selenium.webdriver.common.by import By\n",
    "import time\n",
    "import re\n",
    "\n",
    "driver = webdriver.Chrome(service=service)\n",
    "url = \"https://crawlingtest.netlify.app/\"\n",
    "time.sleep(1)\n",
    "driver.get(url)\n",
    "\n",
    "cos = driver.find_elements(By.CSS_SELECTOR, \"ul#dev_course_list > li.course\")\n",
    "#for cos2 in cos :\n",
    "    #print(cos2.text)\n",
    "print(cos[8].text)"
   ]
  },
  {
   "cell_type": "code",
   "execution_count": 40,
   "id": "2bb31717-f3ae-4a64-851a-96d5df83411b",
   "metadata": {},
   "outputs": [
    {
     "name": "stdout",
     "output_type": "stream",
     "text": [
      "(왕초보) - 클래스 소개\n",
      "(왕초보) - 블로그 개발 필요한 준비물 준비하기\n",
      "(왕초보) - Github pages 설정해서 블로그 첫 페이지 만들어보기\n",
      "(왕초보) - 초간단 페이지 만들어보기\n",
      "(왕초보) - 이쁘게 테마 적용해보기\n",
      "(왕초보) - 마크다운 기초 이해하고, 실제 나만의 블로그 페이지 만들기\n",
      "(왕초보) - 다양한 마크다운 기법 익혀보며, 나만의 블로그 페이지 꾸며보기\n"
     ]
    }
   ],
   "source": [
    "from selenium import webdriver\n",
    "from selenium.webdriver.chrome.service import Service\n",
    "from selenium.webdriver.common.by import By\n",
    "import time\n",
    "import re \n",
    "\n",
    "driver = webdriver.Chrome(service=service)\n",
    "url = \"https://crawlingtest.netlify.app/\"\n",
    "time.sleep(1)\n",
    "driver.get(url)\n",
    "\n",
    "junier = driver.find_element(By.ID, \"hobby_course_list\")\n",
    "print(junier.text)\n",
    "\n",
    "\n",
    "\n"
   ]
  },
  {
   "cell_type": "code",
   "execution_count": 52,
   "id": "fcc98538-a9ce-46b3-84e7-d182ff797b72",
   "metadata": {},
   "outputs": [],
   "source": [
    "from selenium import webdriver\n",
    "from selenium.webdriver.chrome.service import Service\n",
    "from selenium.webdriver.common.by import By\n",
    "import time\n",
    "import re \n",
    "\n",
    "driver = webdriver.Chrome(service=service)\n",
    "url = \"https://crawlingtest.netlify.app/\"\n",
    "time.sleep(1)\n",
    "driver.get(url)\n",
    "\n",
    "se = driver.find_elements(By.ID, \"dev_course_list\")\n",
    "for se2 in se :\n",
    "    se3 = se2.text\n",
    "    for se4 in se3 :\n",
    "        match = re.search(r\"\\[(\\d+)\\]\", se4)\n",
    "        if match and int(match.group(1)) >= 30:\n",
    "            print(se4)\n"
   ]
  },
  {
   "cell_type": "code",
   "execution_count": 46,
   "id": "98ef8bdf-e21e-4212-81db-9e56adbff5e8",
   "metadata": {},
   "outputs": [
    {
     "name": "stdout",
     "output_type": "stream",
     "text": [
      "뉴스: 머신러닝 강좌가 나왔어요~~~\n"
     ]
    }
   ],
   "source": [
    "from selenium import webdriver\n",
    "from selenium.webdriver.chrome.service import Service\n",
    "from selenium.webdriver.common.by import By\n",
    "import time\n",
    "import re \n",
    "\n",
    "driver = webdriver.Chrome(service=service)\n",
    "url = \"https://divjason.github.io/sellenium-test/\"\n",
    "time.sleep(1)\n",
    "driver.get(url)\n",
    "\n",
    "se = driver.find_elements(By.CSS_SELECTOR, \"div.title-container > div.message > span.news\")\n",
    "for se2 in se :\n",
    "    print(se2.text)"
   ]
  },
  {
   "cell_type": "code",
   "execution_count": 66,
   "id": "ef4fe4ce-60fa-4c92-b66c-a54104d8388f",
   "metadata": {},
   "outputs": [],
   "source": [
    "from selenium import webdriver\n",
    "from selenium.webdriver.chrome.service import Service\n",
    "from selenium.webdriver.common.by import By\n",
    "from selenium.webdriver.common.keys import Keys\n",
    "import time\n",
    "import re \n",
    "\n",
    "driver = webdriver.Chrome(service=service)\n",
    "url = \"https://divjason.github.io/sellenium-test/\"\n",
    "time.sleep(5)\n",
    "driver.get(url)\n",
    "\n",
    "ID = driver.find_element(By.NAME, \"username\")\n",
    "PW = driver.find_element(By.NAME, \"password\")\n",
    "\n",
    "#ID.send_keys(\"error@error.com\") \n",
    "#PW.send_keys(\"비밀번호1234\")\n",
    "\n",
    "#PW.send_keys(Keys.RETURN)\n",
    "\n",
    "\n"
   ]
  },
  {
   "cell_type": "code",
   "execution_count": 73,
   "id": "2218ead5-7403-4fec-8196-e6b8097e18ee",
   "metadata": {},
   "outputs": [],
   "source": [
    "from selenium import webdriver\n",
    "from selenium.webdriver.chrome.service import Service\n",
    "from selenium.webdriver.common.by import By\n",
    "from selenium.webdriver.common.keys import Keys\n",
    "import time\n",
    "import re \n",
    "\n",
    "driver = webdriver.Chrome(service=service)\n",
    "url = \"https://divjason.github.io/sellenium-test/\"\n",
    "time.sleep(5)\n",
    "driver.get(url)\n",
    "\n",
    "ID = driver.find_element(By.ID, \"username\")\n",
    "ID.clear()\n",
    "ID.send_keys(\"error@error.com\")\n",
    "\n",
    "PW = driver.find_element(By.ID, \"password\")\n",
    "PW.clear()\n",
    "PW.send_keys(\"1234\")\n",
    "\n",
    "#PW.send_keys(Keys.RETURN)\n",
    "element = driver.find_element(By.CSS_SELECTOR, \"input[type= 'submit']\")\n",
    "element.click()\n",
    "\n"
   ]
  },
  {
   "cell_type": "code",
   "execution_count": 80,
   "id": "1cbf56ee-6c52-452a-9071-b43dacc9ba18",
   "metadata": {},
   "outputs": [
    {
     "name": "stdout",
     "output_type": "stream",
     "text": [
      "실제 사이트는 https://megaitlab.com/ 입니다\n",
      "본 페이지는 로그인된 페이지입니다!\n",
      "뉴스: 머신러닝 강좌가 나왔어요~~~\n"
     ]
    }
   ],
   "source": [
    "from selenium import webdriver\n",
    "from selenium.webdriver.chrome.service import Service\n",
    "from selenium.webdriver.common.by import By\n",
    "from selenium.webdriver.common.keys import Keys\n",
    "import time\n",
    "import re \n",
    "\n",
    "driver = webdriver.Chrome(service=service)\n",
    "url = \"https://divjason.github.io/sellenium-test/\"\n",
    "time.sleep(5)\n",
    "driver.get(url)\n",
    "\n",
    "ID = driver.find_element(By.ID, \"username\")\n",
    "ID.clear()\n",
    "ID.send_keys(\"error@error.com\")\n",
    "\n",
    "PW = driver.find_element(By.ID, \"password\")\n",
    "PW.clear()\n",
    "PW.send_keys(\"1234\")\n",
    "\n",
    "#PW.send_keys(Keys.RETURN)\n",
    "element = driver.find_element(By.CSS_SELECTOR, \"input[type= 'submit']\")\n",
    "element.click()\n",
    "\n",
    "driver2 = webdriver.Chrome(service=service)\n",
    "url2 = \"https://divjason.github.io/sellenium-test/index_login.html?username=error%40error.com&password=1234\"\n",
    "time.sleep(1)\n",
    "driver2.get(url2)\n",
    "\n",
    "\n",
    "se = driver2.find_element(By.CSS_SELECTOR, \"div.message\")\n",
    "print(se.text)\n"
   ]
  },
  {
   "cell_type": "code",
   "execution_count": 94,
   "id": "8aeda2ee-2e88-4886-9245-1b2b57c75dbc",
   "metadata": {},
   "outputs": [
    {
     "name": "stdout",
     "output_type": "stream",
     "text": [
      "실제 사이트는 https://megaitlab.com/ 입니다\n",
      "뉴스: 머신러닝 강좌가 나왔어요~~~\n"
     ]
    }
   ],
   "source": [
    "from selenium import webdriver\n",
    "from selenium.webdriver.chrome.service import Service\n",
    "from selenium.webdriver.common.by import By\n",
    "from selenium.webdriver.common.keys import Keys\n",
    "import time\n",
    "import re \n",
    "\n",
    "driver = webdriver.Chrome(service=service)\n",
    "url = \"https://divjason.github.io/sellenium-test/\"\n",
    "time.sleep(10)\n",
    "driver.get(url)\n",
    "\n",
    "ID = driver.find_element(By.ID, \"username\")\n",
    "ID.clear()\n",
    "ID.send_keys(\"error@error.com\")\n",
    "\n",
    "PW = driver.find_element(By.ID, \"password\")\n",
    "PW.clear()\n",
    "PW.send_keys(\"1234\")\n",
    "\n",
    "#PW.send_keys(Keys.RETURN)\n",
    "element = driver.find_element(By.CSS_SELECTOR, \"input[type= 'submit']\")\n",
    "element.click()\n",
    "\n",
    "element2 = driver.find_element(By.CSS_SELECTOR, \"input[value= '로그아웃']\")\n",
    "element2.click()\n",
    "\n",
    "time.sleep(10)\n",
    "me = driver.find_element(By.CSS_SELECTOR, \"div.message\")\n",
    "print(me.text)"
   ]
  },
  {
   "cell_type": "code",
   "execution_count": null,
   "id": "93ca4f2e-1d27-476f-b0bf-e32aa23089b8",
   "metadata": {},
   "outputs": [],
   "source": []
  }
 ],
 "metadata": {
  "kernelspec": {
   "display_name": "Python [conda env:base] *",
   "language": "python",
   "name": "conda-base-py"
  },
  "language_info": {
   "codemirror_mode": {
    "name": "ipython",
    "version": 3
   },
   "file_extension": ".py",
   "mimetype": "text/x-python",
   "name": "python",
   "nbconvert_exporter": "python",
   "pygments_lexer": "ipython3",
   "version": "3.13.5"
  }
 },
 "nbformat": 4,
 "nbformat_minor": 5
}
