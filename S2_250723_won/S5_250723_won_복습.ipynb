{
 "cells": [
  {
   "cell_type": "code",
   "execution_count": 3,
   "id": "e1583d4b-fbbc-467a-84d5-64c06e5ac20f",
   "metadata": {},
   "outputs": [
    {
     "name": "stdout",
     "output_type": "stream",
     "text": [
      "Teddy의 선물 블로그\n"
     ]
    }
   ],
   "source": [
    "from selenium import webdriver\n",
    "from selenium.webdriver.chrome.service import Service\n",
    "from selenium.webdriver.common.by import By\n",
    "import time\n",
    "import re \n",
    "\n",
    "url =\"https://davelee-fun.github.io/\"\n",
    "driver = webdriver.Chrome()\n",
    "driver.get(url)\n",
    "\n",
    "time.sleep(2)\n",
    "\n",
    "title = driver.find_element(By.CSS_SELECTOR, \"h1.sitetitle\")\n",
    "print(title.text)\n",
    "\n"
   ]
  },
  {
   "cell_type": "code",
   "execution_count": 9,
   "id": "ebe9608e-ab56-4329-980f-f0c8e6cf9c01",
   "metadata": {},
   "outputs": [
    {
     "name": "stdout",
     "output_type": "stream",
     "text": [
      "제목 : 매트리스커버 관련 상품 추천, \n",
      " 요약상품명: 보몽드 순면스퀘어 솔리드 누빔매트커버, 다크블루\n",
      "제목 : 여름이불세트 관련 상품 추천, \n",
      " 요약상품명: 슈에뜨룸 선인장 리플 침구 세트, 베이지\n",
      "제목 : 행거도어 관련 상품 추천, \n",
      " 요약상품명: 선우랜드 레인보우 2단 문걸이용 옷걸이 _중형, 화이트, 상세페이지참조\n",
      "제목 : 매트리스커버 관련 상품 추천, \n",
      " 요약상품명: 보드래 헬로우 누빔 매트리스커버, 핑크\n",
      "제목 : 매트리스커버 관련 상품 추천, \n",
      " 요약상품명: 보드래 퍼펙트 누빔 매트리스커버, 차콜\n",
      "제목 : 매트리스커버 관련 상품 추천, \n",
      " 요약상품명: 피아블 클래식 방수 매트리스커버, 화이트\n",
      "제목 : 매트리스커버 관련 상품 추천, \n",
      " 요약상품명: 더자리 에코항균 마이크로 매트리스커버, 밀키차콜그레이\n",
      "제목 : 매트리스커버 관련 상품 추천, \n",
      " 요약상품명: 더자리 프레쉬 퓨어 매트리스 커버, 퓨어 차콜그레이\n",
      "제목 : 매트리스커버 관련 상품 추천, \n",
      " 요약상품명: 몽쉐어 알러스킨 항균 매트리스 커버, 카키그레이\n",
      "제목 : 매트리스커버 관련 상품 추천, \n",
      " 요약상품명: 쿠팡 브랜드 - 코멧 홈 40수 트윌 순면 100% 홑겹 매트리스커버, 그레이\n",
      "제목 : 매트리스커버 관련 상품 추천, \n",
      " 요약상품명: 패브릭아트 항균 마이크로 원단 매트리스 커버, 아이보리\n",
      "제목 : 매트리스커버 관련 상품 추천, \n",
      " 요약상품명: 바숨 순면 누빔 침대 매트리스커버, 차콜\n",
      "제목 : 행거도어 관련 상품 추천, \n",
      " 요약상품명: WEMAX 다용도 문옷걸이, 화이트, 1개\n",
      "제목 : 매트리스커버 관련 상품 추천, \n",
      " 요약상품명: 타카타카 프리미엄 나노 화이바 누빔 매트리스 커버, 젠틀핑핑\n",
      "제목 : 매트리스커버 관련 상품 추천, \n",
      " 요약상품명: 보몽드 순면스퀘어 누빔매트커버, 다크그레이\n",
      "제목 : 매트리스커버 관련 상품 추천, \n",
      " 요약상품명: 보드래 국내산 순면 60수 누빔 매트리스커버, 그레이\n"
     ]
    }
   ],
   "source": [
    "from selenium import webdriver\n",
    "from selenium.webdriver.chrome.service import Service\n",
    "from selenium.webdriver.common.by import By\n",
    "import time\n",
    "import re \n",
    "\n",
    "url = \"https://davelee-fun.github.io/\"\n",
    "driver = webdriver.Chrome()\n",
    "driver.get(url)\n",
    "\n",
    "time.sleep(3)\n",
    "\n",
    "href = driver.find_elements(By.CSS_SELECTOR, \"div.card-body\")\n",
    "for hrefs in href :\n",
    "    href_2 = hrefs.find_element(By.CSS_SELECTOR, \"h2.card-title > a.text-dark\")\n",
    "    href_3 = hrefs.find_element(By.CSS_SELECTOR, \"h4.card-text\")\n",
    "    print(f\"제목 : {href_2.text}, \\n 요약{href_3.text}\")"
   ]
  },
  {
   "cell_type": "code",
   "execution_count": 12,
   "id": "839b8854-1225-4f0e-8f74-43d053d6b0f4",
   "metadata": {},
   "outputs": [
    {
     "name": "stdout",
     "output_type": "stream",
     "text": [
      "Bulbasaur\n",
      "Ivysaur\n",
      "Venusaur\n",
      "Charmander\n",
      "Charmeleon\n",
      "Charizard\n",
      "Squirtle\n",
      "Wartortle\n",
      "Blastoise\n",
      "Caterpie\n",
      "Metapod\n",
      "Butterfree\n",
      "Weedle\n",
      "Kakuna\n",
      "Beedrill\n",
      "Pidgey\n"
     ]
    }
   ],
   "source": [
    "from selenium import webdriver\n",
    "from selenium.webdriver.chrome.service import Service\n",
    "from selenium.webdriver.common.by import By\n",
    "import time\n",
    "import re \n",
    "\n",
    "url = \"https://scrapeme.live/shop/\"\n",
    "driver = webdriver.Chrome()\n",
    "driver.get(url)\n",
    "\n",
    "shop = driver.find_elements(By.CSS_SELECTOR, \"ul.products.columns-4\")\n",
    "for shops in shop :\n",
    "    title = shops.find_elements(By.CSS_SELECTOR, \"h2.woocommerce-loop-product__title\")\n",
    "    for titles in title :\n",
    "        print(titles.text)\n",
    "\n"
   ]
  },
  {
   "cell_type": "code",
   "execution_count": 13,
   "id": "736eb0bc-a37f-489e-8057-d4cc75d8d5e2",
   "metadata": {},
   "outputs": [
    {
     "name": "stdout",
     "output_type": "stream",
     "text": [
      "Bulbasaur\n",
      "£63.00\n",
      "Add to basket\n",
      "Ivysaur\n",
      "£87.00\n",
      "Add to basket\n",
      "Venusaur\n",
      "£105.00\n",
      "Add to basket\n",
      "Charmander\n",
      "£48.00\n",
      "Add to basket\n",
      "Charmeleon\n",
      "£165.00\n",
      "Add to basket\n",
      "Charizard\n",
      "£156.00\n",
      "Add to basket\n",
      "Squirtle\n",
      "£130.00\n",
      "Add to basket\n",
      "Wartortle\n",
      "£123.00\n",
      "Add to basket\n",
      "Blastoise\n",
      "£76.00\n",
      "Add to basket\n",
      "Caterpie\n",
      "£73.00\n",
      "Add to basket\n",
      "Metapod\n",
      "£148.00\n",
      "Add to basket\n",
      "Butterfree\n",
      "£162.00\n",
      "Add to basket\n",
      "Weedle\n",
      "£25.00\n",
      "Add to basket\n",
      "Kakuna\n",
      "£148.00\n",
      "Add to basket\n",
      "Beedrill\n",
      "£168.00\n",
      "Add to basket\n",
      "Pidgey\n",
      "£159.00\n",
      "Add to basket\n"
     ]
    }
   ],
   "source": [
    "from selenium import webdriver\n",
    "from selenium.webdriver.chrome.service import Service\n",
    "from selenium.webdriver.common.by import By\n",
    "import time\n",
    "import re \n",
    "\n",
    "url = \"https://scrapeme.live/shop/\"\n",
    "driver = webdriver.Chrome()\n",
    "driver.get(url)\n",
    "\n",
    "shop = driver.find_elements(By.CSS_SELECTOR, \"ul.products.columns-4\")\n",
    "for shops in shop :\n",
    "    print(shops.text)"
   ]
  },
  {
   "cell_type": "code",
   "execution_count": 25,
   "id": "501cddb5-56d4-4415-8b86-440fe7d31cca",
   "metadata": {},
   "outputs": [],
   "source": [
    "from selenium import webdriver\n",
    "from selenium.webdriver.chrome.service import Service\n",
    "from selenium.webdriver.common.by import By\n",
    "import time\n",
    "import re \n",
    "\n",
    "url = \"https://scrapeme.live/shop/\"\n",
    "driver = webdriver.Chrome()\n",
    "driver.get(url)\n",
    "\n",
    "time.sleep(2)\n",
    "\n",
    "shop = driver.find_elements(By.CSS_SELECTOR, \"ul.products.columns-4\")\n",
    "for shops in shop:\n",
    "    title = shops.find_elements(By.CSS_SELECTOR, \"h2.woocommerce-loop-product__title\")\n",
    "    price = shops.find_elements(By.CSS_SELECTOR, \"span.woocommerce-Price-currencySymbol\")\n",
    "\n",
    "    # ✅ 여기서부터 인덱스 기반으로 반복 (들여쓰기 포함!)\n",
    "    for i in range(len(title)):\n",
    "        line = price[i].text  # 가격 텍스트\n",
    "\n",
    "        match = re.search(r\"(\\d+\\.\\d+)\", line)\n",
    "        if match and float(match.group(1)) >= 20:\n",
    "            clean = re.sub(r\"\\$\", \"\", line)\n",
    "            print(f\"{title[i].text} / {clean}\")\n",
    "\n",
    "    "
   ]
  }
 ],
 "metadata": {
  "kernelspec": {
   "display_name": "Python [conda env:base] *",
   "language": "python",
   "name": "conda-base-py"
  },
  "language_info": {
   "codemirror_mode": {
    "name": "ipython",
    "version": 3
   },
   "file_extension": ".py",
   "mimetype": "text/x-python",
   "name": "python",
   "nbconvert_exporter": "python",
   "pygments_lexer": "ipython3",
   "version": "3.13.5"
  }
 },
 "nbformat": 4,
 "nbformat_minor": 5
}
