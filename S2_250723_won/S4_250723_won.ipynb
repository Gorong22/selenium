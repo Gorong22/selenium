{
 "cells": [
  {
   "cell_type": "code",
   "execution_count": 1,
   "id": "716b2163-5151-4646-8dd3-8d057c6efa21",
   "metadata": {},
   "outputs": [
    {
     "ename": "NameError",
     "evalue": "name 'service' is not defined",
     "output_type": "error",
     "traceback": [
      "\u001b[1;31m---------------------------------------------------------------------------\u001b[0m",
      "\u001b[1;31mNameError\u001b[0m                                 Traceback (most recent call last)",
      "Cell \u001b[1;32mIn[1], line 8\u001b[0m\n\u001b[0;32m      5\u001b[0m \u001b[38;5;28;01mimport\u001b[39;00m\u001b[38;5;250m \u001b[39m\u001b[38;5;21;01mtime\u001b[39;00m\n\u001b[0;32m      6\u001b[0m \u001b[38;5;28;01mimport\u001b[39;00m\u001b[38;5;250m \u001b[39m\u001b[38;5;21;01mre\u001b[39;00m \n\u001b[1;32m----> 8\u001b[0m driver \u001b[38;5;241m=\u001b[39m webdriver\u001b[38;5;241m.\u001b[39mChrome(service\u001b[38;5;241m=\u001b[39mservice)\n\u001b[0;32m      9\u001b[0m url \u001b[38;5;241m=\u001b[39m \u001b[38;5;124m\"\u001b[39m\u001b[38;5;124mhttps://divjason.github.io/sellenium-test/\u001b[39m\u001b[38;5;124m\"\u001b[39m\n\u001b[0;32m     10\u001b[0m time\u001b[38;5;241m.\u001b[39msleep(\u001b[38;5;241m10\u001b[39m)\n",
      "\u001b[1;31mNameError\u001b[0m: name 'service' is not defined"
     ]
    }
   ],
   "source": [
    "from selenium import webdriver\n",
    "from selenium.webdriver.chrome.service import Service\n",
    "from selenium.webdriver.common.by import By\n",
    "from selenium.webdriver.common.keys import Keys\n",
    "import time\n",
    "import re \n",
    "\n",
    "driver = webdriver.Chrome(service=service)\n",
    "url = \"https://divjason.github.io/sellenium-test/\"\n",
    "time.sleep(10)\n",
    "driver.get(url)\n",
    "\n",
    "ID = driver.find_element(By.ID, \"username\")\n",
    "ID.clear()\n",
    "ID.send_keys(\"error@error.com\")\n",
    "\n",
    "PW = driver.find_element(By.ID, \"password\")\n",
    "PW.clear()\n",
    "PW.send_keys(\"1234\")\n",
    "\n",
    "#PW.send_keys(Keys.RETURN)\n",
    "element = driver.find_element(By.CSS_SELECTOR, \"input[type= 'submit']\")\n",
    "element.click()\n",
    "\n",
    "element2 = driver.find_element(By.CSS_SELECTOR, \"input[value= '로그아웃']\")\n",
    "element2.click()\n",
    "\n",
    "time.sleep(10)\n",
    "me = driver.find_element(By.CSS_SELECTOR, \"div.message\")\n",
    "print(me.text)"
   ]
  },
  {
   "cell_type": "code",
   "execution_count": 1,
   "id": "23397e9c-fcbc-4742-9acd-43c7a27a37ac",
   "metadata": {},
   "outputs": [],
   "source": [
    "from selenium import webdriver\n",
    "from selenium.webdriver.chrome.service import Service\n",
    "from selenium.webdriver.chrome.options import Options\n",
    "from selenium.webdriver.common.by import By\n",
    "from selenium.webdriver.common.keys import Keys\n",
    "from webdriver_manager.chrome import ChromeDriverManager\n",
    "import time\n",
    "\n",
    "# 크롬 설정 - 비밀번호 저장 팝업 비활성화\n",
    "prefs = {\n",
    "    \"credentials_enable_service\": False,\n",
    "    \"profile.password_manager_enabled\": False\n",
    "}\n",
    "\n",
    "options = Options()\n",
    "options.add_experimental_option(\"prefs\", prefs)\n",
    "\n",
    "# ✅ service 객체 정의 (이게 빠졌었음)\n",
    "service = Service(ChromeDriverManager().install())\n",
    "\n",
    "driver = webdriver.Chrome(service=service, options=options)\n",
    "\n",
    "# 사이트 열기\n",
    "driver.get(\"https://divjason.github.io/sellenium-test/\")\n",
    "time.sleep(1)\n",
    "\n",
    "# 로그인 입력\n",
    "ID = driver.find_element(By.ID, \"username\")\n",
    "ID.clear()\n",
    "ID.send_keys(\"error@error.com\")\n",
    "\n",
    "PW = driver.find_element(By.ID, \"password\")\n",
    "PW.clear()\n",
    "PW.send_keys(\"1234\")\n",
    "\n",
    "# 로그인 버튼 클릭\n",
    "driver.find_element(By.CSS_SELECTOR, \"input[type='submit']\").click()\n",
    "time.sleep(1)\n",
    "\n",
    "# 로그아웃 버튼 클릭\n",
    "driver.find_element(By.CSS_SELECTOR, \"input[value='로그아웃']\").click()\n",
    "\n"
   ]
  },
  {
   "cell_type": "code",
   "execution_count": 11,
   "id": "a7b8a68c-043a-4ae7-8ab7-cb5e23efd92c",
   "metadata": {},
   "outputs": [
    {
     "ename": "NoSuchElementException",
     "evalue": "Message: no such element: Unable to locate element: {\"method\":\"css selector\",\"selector\":\"a.ml-1 mr-1\"}\n  (Session info: chrome=138.0.7204.158); For documentation on this error, please visit: https://www.selenium.dev/documentation/webdriver/troubleshooting/errors#nosuchelementexception\nStacktrace:\n\tGetHandleVerifier [0x0x801af3+62339]\n\tGetHandleVerifier [0x0x801b34+62404]\n\t(No symbol) [0x0x642123]\n\t(No symbol) [0x0x68a86e]\n\t(No symbol) [0x0x68ac0b]\n\t(No symbol) [0x0x6d2f72]\n\t(No symbol) [0x0x6af404]\n\t(No symbol) [0x0x6d07a3]\n\t(No symbol) [0x0x6af1b6]\n\t(No symbol) [0x0x67e7a2]\n\t(No symbol) [0x0x67f644]\n\tGetHandleVerifier [0x0xa76683+2637587]\n\tGetHandleVerifier [0x0xa71a8a+2618138]\n\tGetHandleVerifier [0x0x82856a+220666]\n\tGetHandleVerifier [0x0x818998+156200]\n\tGetHandleVerifier [0x0x81f12d+182717]\n\tGetHandleVerifier [0x0x809a38+94920]\n\tGetHandleVerifier [0x0x809bc2+95314]\n\tGetHandleVerifier [0x0x7f4d0a+9626]\n\tBaseThreadInitThunk [0x0x76f3fcc9+25]\n\tRtlGetAppContainerNamedObjectPath [0x0x779282ae+286]\n\tRtlGetAppContainerNamedObjectPath [0x0x7792827e+238]\n",
     "output_type": "error",
     "traceback": [
      "\u001b[1;31m---------------------------------------------------------------------------\u001b[0m",
      "\u001b[1;31mNoSuchElementException\u001b[0m                    Traceback (most recent call last)",
      "Cell \u001b[1;32mIn[11], line 15\u001b[0m\n\u001b[0;32m     13\u001b[0m elements \u001b[38;5;241m=\u001b[39m driver\u001b[38;5;241m.\u001b[39mfind_elements(By\u001b[38;5;241m.\u001b[39mCSS_SELECTOR, \u001b[38;5;124m\"\u001b[39m\u001b[38;5;124mh4.card-text\u001b[39m\u001b[38;5;124m\"\u001b[39m)\n\u001b[0;32m     14\u001b[0m \u001b[38;5;28;01mfor\u001b[39;00m element \u001b[38;5;129;01min\u001b[39;00m elements :\n\u001b[1;32m---> 15\u001b[0m     nex \u001b[38;5;241m=\u001b[39m driver\u001b[38;5;241m.\u001b[39mfind_element(By\u001b[38;5;241m.\u001b[39mCSS_SELECTOR, \u001b[38;5;124m\"\u001b[39m\u001b[38;5;124ma.ml-1 mr-1\u001b[39m\u001b[38;5;124m\"\u001b[39m)\n\u001b[0;32m     16\u001b[0m     click \u001b[38;5;241m=\u001b[39m nex\u001b[38;5;241m.\u001b[39mclick()\n\u001b[0;32m     17\u001b[0m     \u001b[38;5;28;01mfor\u001b[39;00m click \u001b[38;5;129;01min\u001b[39;00m \u001b[38;5;28mrange\u001b[39m(\u001b[38;5;241m8\u001b[39m) :\n",
      "File \u001b[1;32mC:\\ProgramData\\anaconda3\\Lib\\site-packages\\selenium\\webdriver\\remote\\webdriver.py:922\u001b[0m, in \u001b[0;36mWebDriver.find_element\u001b[1;34m(self, by, value)\u001b[0m\n\u001b[0;32m    919\u001b[0m         \u001b[38;5;28;01mraise\u001b[39;00m NoSuchElementException(\u001b[38;5;124mf\u001b[39m\u001b[38;5;124m\"\u001b[39m\u001b[38;5;124mCannot locate relative element with: \u001b[39m\u001b[38;5;132;01m{\u001b[39;00mby\u001b[38;5;241m.\u001b[39mroot\u001b[38;5;132;01m}\u001b[39;00m\u001b[38;5;124m\"\u001b[39m)\n\u001b[0;32m    920\u001b[0m     \u001b[38;5;28;01mreturn\u001b[39;00m elements[\u001b[38;5;241m0\u001b[39m]\n\u001b[1;32m--> 922\u001b[0m \u001b[38;5;28;01mreturn\u001b[39;00m \u001b[38;5;28mself\u001b[39m\u001b[38;5;241m.\u001b[39mexecute(Command\u001b[38;5;241m.\u001b[39mFIND_ELEMENT, {\u001b[38;5;124m\"\u001b[39m\u001b[38;5;124musing\u001b[39m\u001b[38;5;124m\"\u001b[39m: by, \u001b[38;5;124m\"\u001b[39m\u001b[38;5;124mvalue\u001b[39m\u001b[38;5;124m\"\u001b[39m: value})[\u001b[38;5;124m\"\u001b[39m\u001b[38;5;124mvalue\u001b[39m\u001b[38;5;124m\"\u001b[39m]\n",
      "File \u001b[1;32mC:\\ProgramData\\anaconda3\\Lib\\site-packages\\selenium\\webdriver\\remote\\webdriver.py:454\u001b[0m, in \u001b[0;36mWebDriver.execute\u001b[1;34m(self, driver_command, params)\u001b[0m\n\u001b[0;32m    451\u001b[0m response \u001b[38;5;241m=\u001b[39m cast(RemoteConnection, \u001b[38;5;28mself\u001b[39m\u001b[38;5;241m.\u001b[39mcommand_executor)\u001b[38;5;241m.\u001b[39mexecute(driver_command, params)\n\u001b[0;32m    453\u001b[0m \u001b[38;5;28;01mif\u001b[39;00m response:\n\u001b[1;32m--> 454\u001b[0m     \u001b[38;5;28mself\u001b[39m\u001b[38;5;241m.\u001b[39merror_handler\u001b[38;5;241m.\u001b[39mcheck_response(response)\n\u001b[0;32m    455\u001b[0m     response[\u001b[38;5;124m\"\u001b[39m\u001b[38;5;124mvalue\u001b[39m\u001b[38;5;124m\"\u001b[39m] \u001b[38;5;241m=\u001b[39m \u001b[38;5;28mself\u001b[39m\u001b[38;5;241m.\u001b[39m_unwrap_value(response\u001b[38;5;241m.\u001b[39mget(\u001b[38;5;124m\"\u001b[39m\u001b[38;5;124mvalue\u001b[39m\u001b[38;5;124m\"\u001b[39m, \u001b[38;5;28;01mNone\u001b[39;00m))\n\u001b[0;32m    456\u001b[0m     \u001b[38;5;28;01mreturn\u001b[39;00m response\n",
      "File \u001b[1;32mC:\\ProgramData\\anaconda3\\Lib\\site-packages\\selenium\\webdriver\\remote\\errorhandler.py:232\u001b[0m, in \u001b[0;36mErrorHandler.check_response\u001b[1;34m(self, response)\u001b[0m\n\u001b[0;32m    230\u001b[0m         alert_text \u001b[38;5;241m=\u001b[39m value[\u001b[38;5;124m\"\u001b[39m\u001b[38;5;124malert\u001b[39m\u001b[38;5;124m\"\u001b[39m]\u001b[38;5;241m.\u001b[39mget(\u001b[38;5;124m\"\u001b[39m\u001b[38;5;124mtext\u001b[39m\u001b[38;5;124m\"\u001b[39m)\n\u001b[0;32m    231\u001b[0m     \u001b[38;5;28;01mraise\u001b[39;00m exception_class(message, screen, stacktrace, alert_text)  \u001b[38;5;66;03m# type: ignore[call-arg]  # mypy is not smart enough here\u001b[39;00m\n\u001b[1;32m--> 232\u001b[0m \u001b[38;5;28;01mraise\u001b[39;00m exception_class(message, screen, stacktrace)\n",
      "\u001b[1;31mNoSuchElementException\u001b[0m: Message: no such element: Unable to locate element: {\"method\":\"css selector\",\"selector\":\"a.ml-1 mr-1\"}\n  (Session info: chrome=138.0.7204.158); For documentation on this error, please visit: https://www.selenium.dev/documentation/webdriver/troubleshooting/errors#nosuchelementexception\nStacktrace:\n\tGetHandleVerifier [0x0x801af3+62339]\n\tGetHandleVerifier [0x0x801b34+62404]\n\t(No symbol) [0x0x642123]\n\t(No symbol) [0x0x68a86e]\n\t(No symbol) [0x0x68ac0b]\n\t(No symbol) [0x0x6d2f72]\n\t(No symbol) [0x0x6af404]\n\t(No symbol) [0x0x6d07a3]\n\t(No symbol) [0x0x6af1b6]\n\t(No symbol) [0x0x67e7a2]\n\t(No symbol) [0x0x67f644]\n\tGetHandleVerifier [0x0xa76683+2637587]\n\tGetHandleVerifier [0x0xa71a8a+2618138]\n\tGetHandleVerifier [0x0x82856a+220666]\n\tGetHandleVerifier [0x0x818998+156200]\n\tGetHandleVerifier [0x0x81f12d+182717]\n\tGetHandleVerifier [0x0x809a38+94920]\n\tGetHandleVerifier [0x0x809bc2+95314]\n\tGetHandleVerifier [0x0x7f4d0a+9626]\n\tBaseThreadInitThunk [0x0x76f3fcc9+25]\n\tRtlGetAppContainerNamedObjectPath [0x0x779282ae+286]\n\tRtlGetAppContainerNamedObjectPath [0x0x7792827e+238]\n"
     ]
    }
   ],
   "source": [
    "from selenium import webdriver\n",
    "from selenium.webdriver.chrome.service import Service\n",
    "from selenium.webdriver.common.by import By\n",
    "from selenium.webdriver.common.keys import Keys\n",
    "import time\n",
    "import re \n",
    "\n",
    "driver = webdriver.Chrome(service=service)\n",
    "url = \"https://davelee-fun.github.io/\"\n",
    "time.sleep(5)\n",
    "driver.get(url)\n",
    "\n",
    "for nex1 in range(8) :\n",
    "elements = driver.find_elements(By.CSS_SELECTOR, \"h4.card-text\")\n",
    "for element in elements :\n",
    "    print(element.text)\n",
    "    \n",
    "nex = driver.find_element(By.CSS_SELECTOR, \"a.ml-1.mr-1\")\n",
    "if nex < len(nex1)\n",
    "click = nex.click()\n",
    "    for click in element range(8):\n",
    "\n",
    "        \n"
   ]
  }
 ],
 "metadata": {
  "kernelspec": {
   "display_name": "Python [conda env:base] *",
   "language": "python",
   "name": "conda-base-py"
  },
  "language_info": {
   "codemirror_mode": {
    "name": "ipython",
    "version": 3
   },
   "file_extension": ".py",
   "mimetype": "text/x-python",
   "name": "python",
   "nbconvert_exporter": "python",
   "pygments_lexer": "ipython3",
   "version": "3.13.5"
  }
 },
 "nbformat": 4,
 "nbformat_minor": 5
}
