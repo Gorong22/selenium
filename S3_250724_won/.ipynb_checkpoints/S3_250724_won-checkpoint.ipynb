{
 "cells": [
  {
   "cell_type": "code",
   "execution_count": 17,
   "id": "1bfacc87-5c9b-4eea-b143-bd6866cece67",
   "metadata": {},
   "outputs": [
    {
     "name": "stdout",
     "output_type": "stream",
     "text": [
      "실제 사이트는 https://megaitlab.com/ 입니다\n",
      "본 페이지는 로그인된 페이지입니다!\n",
      "뉴스: 머신러닝 강좌가 나왔어요~~~\n"
     ]
    }
   ],
   "source": [
    "from selenium import webdriver\n",
    "from selenium.webdriver.chrome.service import Service\n",
    "from selenium.webdriver.common.by import By\n",
    "from selenium.webdriver.common.keys import Keys\n",
    "from selenium.webdriver.chrome.options import Options\n",
    "from urllib.request import urlretrieve\n",
    "from webdriver_manager.chrome import ChromeDriverManager\n",
    "import time\n",
    "import re \n",
    "\n",
    "prefs = {\n",
    "    \"credentials_enable_service\": False,\n",
    "    \"profile.password_manager_enabled\": False\n",
    "}\n",
    "\n",
    "\n",
    "service = Service(ChromeDriverManager().install())\n",
    "options = Options()\n",
    "options.add_experimental_option(\"prefs\", prefs)\n",
    "\n",
    "driver = webdriver.Chrome(service=service, options=options)\n",
    "url = \"https://divjason.github.io/sellenium-test/\"\n",
    "driver.get(url)\n",
    "\n",
    "ID = driver.find_element(By.XPATH, \"//input[@ID='username']\")\n",
    "\n",
    "ID.send_keys(\"error@error.com\")\n",
    "\n",
    "PW = driver.find_element(By.XPATH, \"//input[@ID='password']\")\n",
    "\n",
    "PW.send_keys(\"1234\")\n",
    "element = driver.find_element(By.XPATH, \"//input[@type='submit']\")\n",
    "element.click()\n",
    "\n",
    "time.sleep(10)\n",
    "\n",
    "\n",
    "driver2 = webdriver.Chrome(service=service, options=options)\n",
    "url2 = \"https://divjason.github.io/sellenium-test/index_login.html?username=&password=\"\n",
    "driver2.get(url2)\n",
    "\n",
    "\n",
    "logout = driver2.find_element(By.XPATH, \"//input[@value='로그아웃']\")\n",
    "logout.click()\n",
    "\n",
    "elements = driver2.find_element(By.XPATH, \"//div[@class='message']\")\n",
    "print(elements.text)\n",
    "\n",
    "\n",
    "\n",
    "time.sleep(10)\n",
    "\n",
    "\n",
    "driver.quit()"
   ]
  }
 ],
 "metadata": {
  "kernelspec": {
   "display_name": "Python [conda env:base] *",
   "language": "python",
   "name": "conda-base-py"
  },
  "language_info": {
   "codemirror_mode": {
    "name": "ipython",
    "version": 3
   },
   "file_extension": ".py",
   "mimetype": "text/x-python",
   "name": "python",
   "nbconvert_exporter": "python",
   "pygments_lexer": "ipython3",
   "version": "3.13.5"
  }
 },
 "nbformat": 4,
 "nbformat_minor": 5
}
